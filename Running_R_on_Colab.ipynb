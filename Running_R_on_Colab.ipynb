{
  "nbformat": 4,
  "nbformat_minor": 0,
  "metadata": {
    "colab": {
      "name": "Running_R_on_Colab.ipynb",
      "provenance": [],
      "collapsed_sections": [],
      "include_colab_link": true
    },
    "kernelspec": {
      "name": "python3",
      "display_name": "Python 3"
    }
  },
  "cells": [
    {
      "cell_type": "markdown",
      "metadata": {
        "id": "view-in-github",
        "colab_type": "text"
      },
      "source": [
        "<a href=\"https://colab.research.google.com/github/kiat/R-Examples/blob/master/Running_R_on_Colab.ipynb\" target=\"_parent\"><img src=\"https://colab.research.google.com/assets/colab-badge.svg\" alt=\"Open In Colab\"/></a>"
      ]
    },
    {
      "cell_type": "code",
      "metadata": {
        "id": "seG5y0ZZ7acg",
        "colab_type": "code",
        "colab": {}
      },
      "source": [
        "%load_ext rpy2.ipython"
      ],
      "execution_count": 0,
      "outputs": []
    },
    {
      "cell_type": "code",
      "metadata": {
        "id": "TkqA4mlK9bsx",
        "colab_type": "code",
        "colab": {}
      },
      "source": [
        "%%R\n",
        "install.packages(c(\"RJSONIO\", \"jsonlite\", \"plyr\", \"pROC\", \"dplyr\", \"httr\", \"logging\", \"digest\", \"moments\"), lib=\"/content/R\")"
      ],
      "execution_count": 0,
      "outputs": []
    },
    {
      "cell_type": "code",
      "metadata": {
        "id": "CKJWCl-jDkHD",
        "colab_type": "code",
        "colab": {}
      },
      "source": [
        "%%R\n",
        "install.packages(\"http://server1.teymourian.info/METCS555_Linux.tar.gz\", repos = NULL, type = .Platform$pkgType, lib=\"/content/R\")"
      ],
      "execution_count": 0,
      "outputs": []
    },
    {
      "cell_type": "code",
      "metadata": {
        "id": "zEx-yT85DpCd",
        "colab_type": "code",
        "colab": {}
      },
      "source": [
        "%%R\n",
        "require(c(\"METCS555\", \"RJSONIO\", \"jsonlite\", \"plyr\", \"pROC\", \"dplyr\", \"httr\", \"logging\", \"digest\", \"moments\"), lib=\"/content/R\")\n",
        "\n",
        "dataset_1 <- GenerateData(studentEmail = \"kiat@bu.edu\", assignmentID = 1)\n",
        "dataset_2 <- GenerateData(studentEmail = \"kiat@bu.edu\", assignmentID = 2)\n",
        "dataset_3 <- GenerateData(studentEmail = \"kiat@bu.edu\", assignmentID = 3)\n",
        "dataset_4 <- GenerateData(studentEmail = \"kiat@bu.edu\", assignmentID = 4)\n",
        "dataset_5 <- GenerateData(studentEmail = \"kiat@bu.edu\", assignmentID = 5)\n",
        "dataset_6 <- GenerateData(studentEmail = \"kiat@bu.edu\", assignmentID = 6)\n",
        "\n",
        "print(\"A3\")\n",
        "print(dataset_3)"
      ],
      "execution_count": 0,
      "outputs": []
    },
    {
      "cell_type": "code",
      "metadata": {
        "id": "PdnNsERdF9PE",
        "colab_type": "code",
        "colab": {}
      },
      "source": [
        "%%R\n",
        "print(\"A3\")\n",
        "plot(dataset_3$NumFishMeals, dataset_3$TotalMercury )"
      ],
      "execution_count": 0,
      "outputs": []
    }
  ]
}